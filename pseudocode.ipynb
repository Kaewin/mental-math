{
 "cells": [
  {
   "cell_type": "code",
   "execution_count": null,
   "metadata": {},
   "outputs": [],
   "source": [
    "# two digit addition\n",
    "\n",
    "generate two two-digit numbers\n",
    "calculate their sum\n",
    "prompt the user for their sum\n",
    "compare\n",
    "return if correct\n",
    "\n",
    "# three digit addition\n",
    "\n",
    "# two digit subtraction\n",
    "\n",
    "# three digit subtraction"
   ]
  }
 ],
 "metadata": {
  "language_info": {
   "name": "python"
  },
  "orig_nbformat": 4
 },
 "nbformat": 4,
 "nbformat_minor": 2
}
